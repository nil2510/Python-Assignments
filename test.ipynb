{
 "cells": [
  {
   "cell_type": "code",
   "execution_count": 18,
   "metadata": {},
   "outputs": [
    {
     "name": "stdout",
     "output_type": "stream",
     "text": [
      "3\n",
      "3\n"
     ]
    }
   ],
   "source": [
    "def printPattern(num):\n",
    "    x = (num//2) +2\n",
    "\n",
    "    for row in range(0, num//2, 1):\n",
    "        for col in range((num//2)-row, 0, -1):\n",
    "            if col == 1:\n",
    "                print(x, end=\"\")\n",
    "            else:\n",
    "                print(x, \"*\", end=\"\")\n",
    "        x -=1\n",
    "        print()\n",
    "\n",
    "    x +=1\n",
    "    for row in range(num//2, 0, -1):\n",
    "        for col in range(0, (num//2)-row+1, 1):\n",
    "            if col == (num//2)-row:\n",
    "                print(x, end=\"\")\n",
    "            else:\n",
    "                print(x, \"*\", end=\"\")\n",
    "        x +=1\n",
    "        print()\n",
    "\n",
    "\n",
    "num = int(input())\n",
    "if ((num % 2) != 0):\n",
    "    print(\"invalid input\")\n",
    "else:\n",
    "    printPattern(num)"
   ]
  }
 ],
 "metadata": {
  "kernelspec": {
   "display_name": "Python 3",
   "language": "python",
   "name": "python3"
  },
  "language_info": {
   "codemirror_mode": {
    "name": "ipython",
    "version": 3
   },
   "file_extension": ".py",
   "mimetype": "text/x-python",
   "name": "python",
   "nbconvert_exporter": "python",
   "pygments_lexer": "ipython3",
   "version": "3.11.4"
  }
 },
 "nbformat": 4,
 "nbformat_minor": 2
}
