{
 "cells": [
  {
   "cell_type": "code",
   "execution_count": 18,
   "metadata": {},
   "outputs": [
    {
     "name": "stdout",
     "output_type": "stream",
     "text": [
      "3\n",
      "3\n"
     ]
    }
   ],
   "source": [
    "def printPattern(num):\n",
    "    x = (num//2) +2\n",
    "\n",
    "    for row in range(0, num//2, 1):\n",
    "        for col in range((num//2)-row, 0, -1):\n",
    "            if col == 1:\n",
    "                print(x, end=\"\")\n",
    "            else:\n",
    "                print(x, \"*\", end=\"\")\n",
    "        x -=1\n",
    "        print()\n",
    "\n",
    "    x +=1\n",
    "    for row in range(num//2, 0, -1):\n",
    "        for col in range(0, (num//2)-row+1, 1):\n",
    "            if col == (num//2)-row:\n",
    "                print(x, end=\"\")\n",
    "            else:\n",
    "                print(x, \"*\", end=\"\")\n",
    "        x +=1\n",
    "        print()\n",
    "\n",
    "\n",
    "num = int(input())\n",
    "if ((num % 2) != 0):\n",
    "    print(\"invalid input\")\n",
    "else:\n",
    "    printPattern(num)"
   ]
  },
  {
   "cell_type": "code",
   "execution_count": null,
   "metadata": {},
   "outputs": [],
   "source": [
    "def isPrime(n):\n",
    "    if n <= 1:\n",
    "        return False\n",
    "    for i in range (2, n//2):\n",
    "        if n % i == 0:\n",
    "            return True\n",
    "    return False\n",
    "\n",
    "num = int(input())\n",
    "for i in range(1, num+1, 1):\n",
    "    if isPrime(i):\n",
    "        print(i)"
   ]
  },
  {
   "cell_type": "code",
   "execution_count": 12,
   "metadata": {},
   "outputs": [
    {
     "name": "stdout",
     "output_type": "stream",
     "text": [
      "forest. in cat a is There\n"
     ]
    }
   ],
   "source": [
    "def reverseSentence(s):\n",
    "    s2 = \"\"\n",
    "    k = len(s)\n",
    "    for i in range(len(s)-1, -1, -1):\n",
    "        if s[i] == \" \":\n",
    "            s2 += s[i+1:k]+\" \"\n",
    "            k = i\n",
    "        if s[i] == s[0]:\n",
    "            s2 += s[i:k]\n",
    "    return s2\n",
    "\n",
    "mystring = \"There is a cat in forest.\"\n",
    "print(reverseSentence(mystring))"
   ]
  }
 ],
 "metadata": {
  "kernelspec": {
   "display_name": "Python 3",
   "language": "python",
   "name": "python3"
  },
  "language_info": {
   "codemirror_mode": {
    "name": "ipython",
    "version": 3
   },
   "file_extension": ".py",
   "mimetype": "text/x-python",
   "name": "python",
   "nbconvert_exporter": "python",
   "pygments_lexer": "ipython3",
   "version": "3.11.4"
  }
 },
 "nbformat": 4,
 "nbformat_minor": 2
}
