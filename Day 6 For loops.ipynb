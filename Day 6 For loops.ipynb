{
 "cells": [
  {
   "cell_type": "markdown",
   "metadata": {},
   "source": [
    "1. Binary Pattern"
   ]
  },
  {
   "cell_type": "code",
   "execution_count": 1,
   "metadata": {},
   "outputs": [
    {
     "name": "stdout",
     "output_type": "stream",
     "text": [
      "1111\n",
      "000\n",
      "11\n",
      "0\n"
     ]
    }
   ],
   "source": [
    "def printPattern(n):\n",
    "    x = 1\n",
    "    for row in range (n, 0, -1):\n",
    "        for col in range (row, 0, -1):\n",
    "            print(x, end=\"\")\n",
    "        if x == 1:\n",
    "            x = 0\n",
    "        elif x == 0:\n",
    "            x = 1\n",
    "        print()\n",
    "\n",
    "num = int(input())\n",
    "printPattern(num)"
   ]
  },
  {
   "cell_type": "markdown",
   "metadata": {},
   "source": [
    "2. Print Number Pyramid"
   ]
  },
  {
   "cell_type": "code",
   "execution_count": 16,
   "metadata": {},
   "outputs": [
    {
     "name": "stdout",
     "output_type": "stream",
     "text": [
      "12345\n",
      " 2345\n",
      "  345\n",
      "   45\n",
      "    5\n",
      "   45\n",
      "  345\n",
      " 2345\n",
      "12345\n"
     ]
    }
   ],
   "source": [
    "def printPattern(n):\n",
    "    for row in range (1, n+1, 1):\n",
    "        for col in range (1,n+1, 1):\n",
    "            if col < row:\n",
    "                print(\" \", end=\"\")\n",
    "            else:\n",
    "                print(col, end=\"\")\n",
    "        print()\n",
    "    for row in range (n-1, 0, -1):\n",
    "        for col in range (1,n+1, 1):\n",
    "            if col < row:\n",
    "                print(\" \", end=\"\")\n",
    "            else:\n",
    "                print(col, end=\"\")\n",
    "        print()\n",
    "\n",
    "num = int(input())\n",
    "printPattern(num)"
   ]
  },
  {
   "cell_type": "markdown",
   "metadata": {},
   "source": [
    "3. Diamond of Stars"
   ]
  },
  {
   "cell_type": "code",
   "execution_count": 12,
   "metadata": {},
   "outputs": [
    {
     "name": "stdout",
     "output_type": "stream",
     "text": [
      "   *\n",
      "  ***\n",
      " *****\n",
      "*******\n",
      " *****\n",
      "  ***\n",
      "   *\n"
     ]
    }
   ],
   "source": [
    "def printPattern(num):\n",
    "    for row in range(1, num//2+2, 1):\n",
    "        for col in range(0, (num//2)-row+1, 1):\n",
    "            print(\" \", end=\"\")\n",
    "        for col in range(1, (row*2), 1):\n",
    "            print(\"*\", end=\"\")\n",
    "        print()\n",
    "\n",
    "    for row in range(num//2, 0, -1):\n",
    "        for col in range(0, (num//2)-row+1, 1):\n",
    "            print(\" \", end=\"\")\n",
    "        for col in range(1, row+row, 1):\n",
    "            print(\"*\", end=\"\")\n",
    "        print()\n",
    "\n",
    "num = int(input())\n",
    "printPattern(num)"
   ]
  },
  {
   "cell_type": "markdown",
   "metadata": {},
   "source": [
    "4. Rectangular numbers"
   ]
  },
  {
   "cell_type": "code",
   "execution_count": 26,
   "metadata": {},
   "outputs": [
    {
     "name": "stdout",
     "output_type": "stream",
     "text": [
      "4 4 4 4 4 4 4 \n",
      "4 3 3 3 3 3 4 \n",
      "4 3 2 2 2 3 4 \n",
      "4 3 2 1 2 3 4 \n",
      "4 3 2 2 2 3 4 \n",
      "4 3 3 3 3 3 4 \n",
      "4 4 4 4 4 4 4 \n"
     ]
    }
   ],
   "source": [
    "def printPattern(n):\n",
    "    for row in range(1, num*2, 1):\n",
    "        for col in range(1, num*2, 1):\n",
    "            x = 1\n",
    "            for i in range(0, num, 1):\n",
    "                if row == x or row == num*2 - x or col == x or col == num*2 - x:\n",
    "                    print(num-x+1, end=\" \")\n",
    "                    break\n",
    "                x += 1\n",
    "        print()\n",
    "\n",
    "num = int(input())\n",
    "printPattern(num)"
   ]
  },
  {
   "cell_type": "markdown",
   "metadata": {},
   "source": [
    "5. Print the pattern"
   ]
  },
  {
   "cell_type": "code",
   "execution_count": 19,
   "metadata": {},
   "outputs": [
    {
     "name": "stdout",
     "output_type": "stream",
     "text": [
      "1 2 3 4 5 6 \n",
      "13 14 15 16 17 18 \n",
      "25 26 27 28 29 30 \n",
      "31 32 33 34 35 36 \n",
      "19 20 21 22 23 24 \n",
      "7 8 9 10 11 12 \n"
     ]
    }
   ],
   "source": [
    "# Pattern for N = 5\n",
    "#  1    2   3    4   5\n",
    "#  11   12  13   14  15\n",
    "#  21   22  23   24  25\n",
    "#  16   17  18   19  20\n",
    "#  6    7    8   9   10\n",
    "\n",
    "# Pattern for N = 4\n",
    "# 1  2  3  4\n",
    "# 9  10 11 12\n",
    "# 13 14 15 16\n",
    "# 5  6  7  8\n",
    "\n",
    "def printPattern(n):\n",
    "    for row in range(0, n, 2):\n",
    "        for col in range(0, n, 1):\n",
    "            print((n*row)+col+1 , end=\" \")\n",
    "        print()\n",
    "    p = ((n // 2) * 2) -1\n",
    "\n",
    "    for row in range(p ,0, -2):\n",
    "        for col in range(0, n, 1):\n",
    "            print((n*row)+col+1 , end=\" \")\n",
    "        print()\n",
    "\n",
    "num = int(input())\n",
    "printPattern(num)"
   ]
  }
 ],
 "metadata": {
  "kernelspec": {
   "display_name": "Python 3",
   "language": "python",
   "name": "python3"
  },
  "language_info": {
   "codemirror_mode": {
    "name": "ipython",
    "version": 3
   },
   "file_extension": ".py",
   "mimetype": "text/x-python",
   "name": "python",
   "nbconvert_exporter": "python",
   "pygments_lexer": "ipython3",
   "version": "3.11.4"
  }
 },
 "nbformat": 4,
 "nbformat_minor": 2
}
