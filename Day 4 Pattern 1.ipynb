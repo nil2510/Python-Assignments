{
 "cells": [
  {
   "cell_type": "markdown",
   "metadata": {},
   "source": [
    "1. Number Pattern 1"
   ]
  },
  {
   "cell_type": "code",
   "execution_count": 4,
   "metadata": {},
   "outputs": [
    {
     "name": "stdout",
     "output_type": "stream",
     "text": [
      "1\n",
      "11\n",
      "111\n",
      "1111\n"
     ]
    }
   ],
   "source": [
    "num = int(input())\n",
    "temp = 1\n",
    "while temp <= num:\n",
    "    x = 1\n",
    "    while x <= temp:\n",
    "        print(1, end=\"\")\n",
    "        x += 1\n",
    "    print()\n",
    "    temp += 1"
   ]
  },
  {
   "cell_type": "markdown",
   "metadata": {},
   "source": [
    "2. Number Pattern 2"
   ]
  },
  {
   "cell_type": "code",
   "execution_count": 2,
   "metadata": {},
   "outputs": [
    {
     "name": "stdout",
     "output_type": "stream",
     "text": [
      "0\n",
      "11\n",
      "202\n",
      "3003\n",
      "40004\n"
     ]
    }
   ],
   "source": [
    "num = int(input())\n",
    "temp = 1\n",
    "while temp <= num:\n",
    "    x = 1\n",
    "    while x <= temp:\n",
    "        if x == 1 or x == temp:\n",
    "            print(temp - 1, end=\"\")\n",
    "        else:\n",
    "            print(0, end=\"\")\n",
    "        x += 1\n",
    "    print()\n",
    "    temp += 1"
   ]
  },
  {
   "cell_type": "markdown",
   "metadata": {},
   "source": [
    "3. Number Pattern 3"
   ]
  },
  {
   "cell_type": "code",
   "execution_count": 3,
   "metadata": {},
   "outputs": [
    {
     "name": "stdout",
     "output_type": "stream",
     "text": [
      "1\n",
      "11\n",
      "121\n",
      "1221\n",
      "12221\n"
     ]
    }
   ],
   "source": [
    "num = int(input())\n",
    "temp = 1\n",
    "while temp <= num:\n",
    "    x = 1\n",
    "    while x <= temp:\n",
    "        if x == 1 or x == temp:\n",
    "            print(1, end=\"\")\n",
    "        else:\n",
    "            print(2, end=\"\")\n",
    "        x += 1\n",
    "    print()\n",
    "    temp += 1"
   ]
  },
  {
   "cell_type": "markdown",
   "metadata": {},
   "source": [
    "4. Number Pattern"
   ]
  },
  {
   "cell_type": "code",
   "execution_count": 6,
   "metadata": {},
   "outputs": [
    {
     "name": "stdout",
     "output_type": "stream",
     "text": [
      "1234\n",
      "123\n",
      "12\n",
      "1\n"
     ]
    }
   ],
   "source": [
    "num = int(input())\n",
    "temp = 4\n",
    "while temp >= 1:\n",
    "    x = 1\n",
    "    while x <= temp:\n",
    "        print(x, end=\"\")\n",
    "        x += 1\n",
    "    print()\n",
    "    temp -= 1"
   ]
  },
  {
   "cell_type": "markdown",
   "metadata": {},
   "source": [
    "5. Alpha Pattern"
   ]
  },
  {
   "cell_type": "code",
   "execution_count": 11,
   "metadata": {},
   "outputs": [
    {
     "name": "stdout",
     "output_type": "stream",
     "text": [
      "A\n",
      "BB\n",
      "CCC\n",
      "DDDD\n"
     ]
    }
   ],
   "source": [
    "num = int(input())\n",
    "temp = 1\n",
    "while temp <= num:\n",
    "    x = 1\n",
    "    while x <= temp:\n",
    "        print(chr(64 + temp), end=\"\")\n",
    "        x += 1\n",
    "    print()\n",
    "    temp += 1"
   ]
  }
 ],
 "metadata": {
  "kernelspec": {
   "display_name": "Python 3",
   "language": "python",
   "name": "python3"
  },
  "language_info": {
   "codemirror_mode": {
    "name": "ipython",
    "version": 3
   },
   "file_extension": ".py",
   "mimetype": "text/x-python",
   "name": "python",
   "nbconvert_exporter": "python",
   "pygments_lexer": "ipython3",
   "version": "3.11.4"
  }
 },
 "nbformat": 4,
 "nbformat_minor": 2
}
