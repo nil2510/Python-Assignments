{
 "cells": [
  {
   "cell_type": "markdown",
   "metadata": {},
   "source": [
    "1. Check triangle Pseudo Code"
   ]
  },
  {
   "cell_type": "code",
   "execution_count": null,
   "metadata": {},
   "outputs": [],
   "source": [
    "START\n",
    "    INPUT a\n",
    "    INPUT b\n",
    "    INPUT c\n",
    "    IF a==b\n",
    "        IF b==c\n",
    "            OUTPUT equilateral\n",
    "        ELSE\n",
    "            OUTPUT isosceles\n",
    "    ELSE:\n",
    "        IF a==c\n",
    "            OUTPUT isosceles\n",
    "        ELSE\n",
    "            IF b==c\n",
    "                OUTPUT isosceles\n",
    "            ELSE\n",
    "                OUTPUT scalene\n",
    "END"
   ]
  },
  {
   "cell_type": "code",
   "execution_count": 1,
   "metadata": {},
   "outputs": [
    {
     "name": "stdout",
     "output_type": "stream",
     "text": [
      "The triangle is equilateral.\n"
     ]
    }
   ],
   "source": [
    "a = int(input(\"Enter 1st side's length: \"))\n",
    "b = int(input(\"Enter 2st side's length: \"))\n",
    "c = int(input(\"Enter 3st side's length: \"))\n",
    "\n",
    "print(\"The triangle is \", end =\"\")\n",
    "\n",
    "if a==b:\n",
    "    if b==c:\n",
    "        print(\"equilateral.\")\n",
    "    else:\n",
    "        print(\"isosceles.\")\n",
    "else:\n",
    "    if a==c:\n",
    "        print(\"isosceles.\")\n",
    "    else:\n",
    "        if b==c:\n",
    "            print(\"isosceles.\")\n",
    "        else:\n",
    "            print(\"scalene.\")"
   ]
  },
  {
   "cell_type": "markdown",
   "metadata": {},
   "source": [
    "2. Sum of Evens"
   ]
  },
  {
   "cell_type": "code",
   "execution_count": null,
   "metadata": {},
   "outputs": [],
   "source": [
    "START\n",
    "    INPUT num\n",
    "    sum = 0\n",
    "    WHILE num > 0:\n",
    "        IF num % 2 == 0:\n",
    "            sum += num\n",
    "        num -= 1\n",
    "    OUTPUT sum\n",
    "END"
   ]
  },
  {
   "cell_type": "code",
   "execution_count": null,
   "metadata": {},
   "outputs": [],
   "source": [
    "num = int(input(\"Enter the number: \"))\n",
    "sum = 0\n",
    "\n",
    "while num > 0:\n",
    "    if num % 2 == 0:\n",
    "        sum += num\n",
    "    num -= 1\n",
    "print(\"Sum of even numbers upto the given numbers is \", sum)"
   ]
  },
  {
   "cell_type": "markdown",
   "metadata": {},
   "source": [
    "3. Find GCD"
   ]
  },
  {
   "cell_type": "code",
   "execution_count": null,
   "metadata": {},
   "outputs": [],
   "source": [
    "START\n",
    "    INPUT num1\n",
    "    INPUT num2\n",
    "    i = 0\n",
    "    IF num1 < num2\n",
    "        i = num1\n",
    "    ELSE\n",
    "        i = num2\n",
    "    WHILE i > 0\n",
    "        IF num1 % i == 0 AND num2 % i == 0\n",
    "            OUTPUT i\n",
    "            BREAK\n",
    "        i = i-1\n",
    "END"
   ]
  },
  {
   "cell_type": "code",
   "execution_count": 1,
   "metadata": {},
   "outputs": [
    {
     "name": "stdout",
     "output_type": "stream",
     "text": [
      "4\n"
     ]
    }
   ],
   "source": [
    "def findGCD(num1, num2):\n",
    "    i = min(num1, num2)\n",
    "    while i > 0:\n",
    "        if (num1 % i == 0) and (num2 % i == 0):\n",
    "            return i\n",
    "        i -= 1\n",
    "\n",
    "num1 = int(input())\n",
    "num2 = int(input())\n",
    "print(findGCD(num1, num2))"
   ]
  },
  {
   "cell_type": "markdown",
   "metadata": {},
   "source": [
    "4. Check Prime number"
   ]
  },
  {
   "cell_type": "code",
   "execution_count": null,
   "metadata": {},
   "outputs": [],
   "source": [
    "START\n",
    "    IF n <= 1:\n",
    "        RETURN False\n",
    "    FOR i IN RANGE (2, n//2):\n",
    "        IF n % i == 0:\n",
    "            RETURN True\n",
    "    RETURN False\n",
    "END"
   ]
  },
  {
   "cell_type": "code",
   "execution_count": null,
   "metadata": {},
   "outputs": [],
   "source": [
    "def isPrime(n):\n",
    "    if n <= 1:\n",
    "        return False\n",
    "    for i in range (2, n//2):\n",
    "        if n % i == 0:\n",
    "            return True\n",
    "    return False\n",
    "\n",
    "num = int(input())\n",
    "if isPrime(num):\n",
    "    print(\"Prime\")\n",
    "else:\n",
    "    print(\"Not Prime\")"
   ]
  },
  {
   "cell_type": "markdown",
   "metadata": {},
   "source": [
    "5. All Fibonacci Numbers"
   ]
  },
  {
   "cell_type": "code",
   "execution_count": null,
   "metadata": {},
   "outputs": [],
   "source": [
    "START\n",
    "    INPUT num\n",
    "    a1 = 0\n",
    "    a2 = 1\n",
    "    OUTPUT a1\n",
    "    WHILE a2 <= num:\n",
    "        OUTPUT a2\n",
    "        temp = a1 + a2\n",
    "        a1 = a2\n",
    "        a2 = temp\n",
    "END"
   ]
  },
  {
   "cell_type": "code",
   "execution_count": 10,
   "metadata": {},
   "outputs": [
    {
     "name": "stdout",
     "output_type": "stream",
     "text": [
      "0\n",
      "1\n",
      "1\n",
      "2\n",
      "3\n",
      "5\n",
      "8\n",
      "13\n",
      "21\n"
     ]
    }
   ],
   "source": [
    "num = int(input())\n",
    "a1 = 0\n",
    "a2 = 1\n",
    "print(a1)\n",
    "while a2 <= num:\n",
    "    print(a2)\n",
    "    temp = a1 + a2\n",
    "    a1 = a2\n",
    "    a2 = temp"
   ]
  },
  {
   "cell_type": "markdown",
   "metadata": {},
   "source": [
    "6. Member of Fibonacci"
   ]
  },
  {
   "cell_type": "code",
   "execution_count": null,
   "metadata": {},
   "outputs": [],
   "source": [
    "START\n",
    "    a1 = 0\n",
    "    a2 = 1\n",
    "    WHILE a2 <= num:\n",
    "        temp = a1 + a2\n",
    "        IF temp == num:\n",
    "            RETURN True\n",
    "        a1 = a2\n",
    "        a2 = temp\n",
    "    RETURN False\n",
    "END"
   ]
  },
  {
   "cell_type": "code",
   "execution_count": 15,
   "metadata": {},
   "outputs": [
    {
     "name": "stdout",
     "output_type": "stream",
     "text": [
      "No\n"
     ]
    }
   ],
   "source": [
    "def isFibonacci(num):\n",
    "    a1 = 0\n",
    "    a2 = 1\n",
    "    while a2 <= num:\n",
    "        temp = a1 + a2\n",
    "        if temp == num:\n",
    "            return True\n",
    "        a1 = a2\n",
    "        a2 = temp\n",
    "    return False\n",
    "\n",
    "num = int(input())\n",
    "if isFibonacci(num):\n",
    "    print(\"Yes\")\n",
    "else:\n",
    "    print(\"No\")"
   ]
  }
 ],
 "metadata": {
  "kernelspec": {
   "display_name": "Python 3",
   "language": "python",
   "name": "python3"
  },
  "language_info": {
   "codemirror_mode": {
    "name": "ipython",
    "version": 3
   },
   "file_extension": ".py",
   "mimetype": "text/x-python",
   "name": "python",
   "nbconvert_exporter": "python",
   "pygments_lexer": "ipython3",
   "version": "3.11.4"
  }
 },
 "nbformat": 4,
 "nbformat_minor": 2
}
