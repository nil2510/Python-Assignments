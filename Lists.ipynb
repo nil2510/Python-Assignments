{
 "cells": [
  {
   "cell_type": "markdown",
   "metadata": {},
   "source": [
    "1. Find Unique"
   ]
  },
  {
   "cell_type": "code",
   "execution_count": 12,
   "metadata": {},
   "outputs": [
    {
     "name": "stdout",
     "output_type": "stream",
     "text": [
      "2\n"
     ]
    }
   ],
   "source": [
    "test_cases = int(input())\n",
    "for i in range(0, test_cases, 1):\n",
    "    n = int(input())\n",
    "    elements = input()\n",
    "    myList = elements.split()\n",
    "    newList = []\n",
    "    for i in range(0, n, 1):\n",
    "        if myList[i] in newList:\n",
    "            newList.remove(myList[i])\n",
    "        else:\n",
    "            newList.append(myList[i])\n",
    "    print(newList[0])"
   ]
  },
  {
   "cell_type": "markdown",
   "metadata": {},
   "source": [
    "2. Find Duplicate"
   ]
  },
  {
   "cell_type": "code",
   "execution_count": 2,
   "metadata": {},
   "outputs": [
    {
     "name": "stdout",
     "output_type": "stream",
     "text": [
      "2\n"
     ]
    }
   ],
   "source": [
    "n = int(input())\n",
    "elements = input()\n",
    "myList = elements.split()\n",
    "newList = []\n",
    "for i in range(0, n, 1):\n",
    "    if myList[i] in newList:\n",
    "        print(myList[i])\n",
    "        # exit()\n",
    "    else:\n",
    "        newList.append(myList[i])"
   ]
  },
  {
   "cell_type": "markdown",
   "metadata": {},
   "source": [
    "3. Intersection of Two Arrays II"
   ]
  },
  {
   "cell_type": "code",
   "execution_count": 4,
   "metadata": {},
   "outputs": [
    {
     "name": "stdout",
     "output_type": "stream",
     "text": [
      "['4', '5']\n"
     ]
    }
   ],
   "source": [
    "test_cases = int(input())\n",
    "for i in range(0, test_cases, 1):\n",
    "    n = int(input())\n",
    "    elements = input()\n",
    "    nList = elements.split()\n",
    "\n",
    "    m = int(input())\n",
    "    elements = input()\n",
    "    mList = elements.split()\n",
    "\n",
    "    newList = []\n",
    "    for i in range(0, n, 1):\n",
    "        if nList[i] in mList:\n",
    "            newList.append(nList[i])\n",
    "    print(newList)"
   ]
  },
  {
   "cell_type": "markdown",
   "metadata": {},
   "source": [
    "4. Pair Sum"
   ]
  },
  {
   "cell_type": "code",
   "execution_count": 3,
   "metadata": {},
   "outputs": [
    {
     "name": "stdout",
     "output_type": "stream",
     "text": [
      "['1', '2', '3', '4', '5']\n",
      "2\n"
     ]
    }
   ],
   "source": [
    "test_cases = int(input())\n",
    "for i in range(0, test_cases, 1):\n",
    "    n = int(input())\n",
    "    elements = input()\n",
    "    myList = elements.split()\n",
    "    x = int(input())\n",
    "    count = 0\n",
    "    for i in range(0, n, 1):\n",
    "        for j in range(0, n, 1):\n",
    "            if i != j:\n",
    "                if (int(myList[i]) + int(myList[j])) == x:\n",
    "                    count += 1\n",
    "    print(count//2)"
   ]
  },
  {
   "cell_type": "markdown",
   "metadata": {},
   "source": [
    "5. Triplet Sum"
   ]
  },
  {
   "cell_type": "code",
   "execution_count": 9,
   "metadata": {},
   "outputs": [
    {
     "name": "stdout",
     "output_type": "stream",
     "text": [
      "['1', '2', '3', '4', '5', '6', '7']\n",
      "5\n"
     ]
    }
   ],
   "source": [
    "test_cases = int(input())\n",
    "for i in range(0, test_cases, 1):\n",
    "    n = int(input())\n",
    "    elements = input()\n",
    "    myList = elements.split()\n",
    "    x = int(input())\n",
    "    count = 0\n",
    "    for i in range(0, n, 1):\n",
    "        for j in range(0, n, 1):\n",
    "            for k in range(0, n, 1):\n",
    "                if i != j and j != k and k != i:\n",
    "                    if (int(myList[i]) + int(myList[j]) + int(myList[k])) == x:\n",
    "                        count += 1\n",
    "    print(count//6)"
   ]
  },
  {
   "cell_type": "markdown",
   "metadata": {},
   "source": [
    "6. Sort 0 1"
   ]
  },
  {
   "cell_type": "code",
   "execution_count": 1,
   "metadata": {},
   "outputs": [
    {
     "name": "stdout",
     "output_type": "stream",
     "text": [
      "['0', '0', '0', '0', '1', '1', '1', '1']\n"
     ]
    }
   ],
   "source": [
    "test_cases = int(input())\n",
    "for i in range(0, test_cases, 1):\n",
    "    elements = input()\n",
    "    myList = elements.split()\n",
    "    for i in myList:\n",
    "        if i == \"1\":\n",
    "            myList.remove(i)\n",
    "            myList.append(\"1\")\n",
    "    print(myList)"
   ]
  }
 ],
 "metadata": {
  "kernelspec": {
   "display_name": "Python 3",
   "language": "python",
   "name": "python3"
  },
  "language_info": {
   "codemirror_mode": {
    "name": "ipython",
    "version": 3
   },
   "file_extension": ".py",
   "mimetype": "text/x-python",
   "name": "python",
   "nbconvert_exporter": "python",
   "pygments_lexer": "ipython3",
   "version": "3.11.4"
  }
 },
 "nbformat": 4,
 "nbformat_minor": 2
}
