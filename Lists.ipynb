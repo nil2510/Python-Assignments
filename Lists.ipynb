{
 "cells": [
  {
   "cell_type": "markdown",
   "metadata": {},
   "source": [
    "1. Find Unique"
   ]
  },
  {
   "cell_type": "code",
   "execution_count": null,
   "metadata": {},
   "outputs": [],
   "source": [
    "test_cases = int(input())\n",
    "for i in range(0, t, 1):\n",
    "    N = int(input())\n",
    "    myString = \"Hello world\"\n",
    "    myList = myString.split()\n",
    "\n",
    "\n",
    "# thislist = [\"apple\", \"banana\", \"cherry\"]\n",
    "# if \"apple\" in thislist:\n",
    "#   print(\"Yes, 'apple' is in the fruits list\")"
   ]
  }
 ],
 "metadata": {
  "language_info": {
   "name": "python"
  }
 },
 "nbformat": 4,
 "nbformat_minor": 2
}
