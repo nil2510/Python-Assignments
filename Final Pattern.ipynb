{
 "cells": [
  {
   "cell_type": "markdown",
   "metadata": {},
   "source": [
    "1. Hollow Alphabet Diamond Pattern"
   ]
  },
  {
   "cell_type": "code",
   "execution_count": 1,
   "metadata": {},
   "outputs": [
    {
     "name": "stdout",
     "output_type": "stream",
     "text": [
      "    A\n",
      "   A B\n",
      "  A   B\n",
      " A     B\n",
      "A       B\n",
      " A     B\n",
      "  A   B\n",
      "   A B\n",
      "    A\n"
     ]
    }
   ],
   "source": [
    "num = int(input())\n",
    "for row in range(1, num+1, 1):\n",
    "    for col in range(0, num - row, 1):\n",
    "        print(\" \", end=\"\")\n",
    "    print(\"A\", end=\"\")\n",
    "    for col in range(0, row -1, 1):\n",
    "        print(\" \", end=\"\")\n",
    "    for col in range(0, row-2, 1):\n",
    "        print(\" \", end=\"\")\n",
    "    if row != 1:\n",
    "        print(\"B\", end=\"\")\n",
    "    print()\n",
    "\n",
    "for row in range(1, num, 1):\n",
    "    for col in range(0, row, 1):\n",
    "        print(\" \", end=\"\")\n",
    "    print(\"A\", end=\"\")\n",
    "    for col in range(num-row-1, 0, -1):\n",
    "        print(\" \", end=\"\")\n",
    "    for col in range(num-row-1, 1, -1):\n",
    "        print(\" \", end=\"\")\n",
    "    if row != num -1:\n",
    "        print(\"B\", end=\"\")\n",
    "    print()"
   ]
  },
  {
   "cell_type": "markdown",
   "metadata": {},
   "source": [
    "2. Alphabet Diamond Pattern Program"
   ]
  },
  {
   "cell_type": "code",
   "execution_count": 2,
   "metadata": {},
   "outputs": [
    {
     "name": "stdout",
     "output_type": "stream",
     "text": [
      "     A\n",
      "    ABC\n",
      "   ABCDE\n",
      "  ABCDEFG\n",
      " ABCDEFGHI\n",
      "ABCDEFGHIJK\n",
      " ABCDEFGHI\n",
      "  ABCDEFG\n",
      "   ABCDE\n",
      "    ABC\n",
      "     A\n"
     ]
    }
   ],
   "source": [
    "num = int(input())\n",
    "for row in range(1, num+1, 1):\n",
    "    for col in range(0, num - row, 1):\n",
    "        print(\" \", end=\"\")\n",
    "    for col in range(1, row+row, 1):\n",
    "        print(chr(64 + col), end=\"\")\n",
    "    print()\n",
    "\n",
    "for row in range(num-1, 0, -1):\n",
    "    for col in range(0, num-row, 1):\n",
    "        print(\" \", end=\"\")\n",
    "    for col in range(1, row+row, 1):\n",
    "        print(chr(64 + col), end=\"\")\n",
    "    print()"
   ]
  },
  {
   "cell_type": "markdown",
   "metadata": {},
   "source": [
    "3. Hollow Alphabet Pyramid Pattern"
   ]
  },
  {
   "cell_type": "code",
   "execution_count": 17,
   "metadata": {},
   "outputs": [
    {
     "name": "stdout",
     "output_type": "stream",
     "text": [
      "    A\n",
      "   B C\n",
      "  D   E\n",
      " F     G\n",
      "HIJKLMNOP\n"
     ]
    }
   ],
   "source": [
    "num = int(input())\n",
    "x = 1\n",
    "for row in range(1, num+1, 1):\n",
    "    for col in range(0, num - row, 1):\n",
    "        print(\" \", end=\"\")\n",
    "    for col in range(1, row+row, 1):\n",
    "        if row == 1 or row == num or col == 1 or col == row+row-1:\n",
    "            print(chr(64 + x), end=\"\")\n",
    "            x +=1\n",
    "        else:\n",
    "            print(\" \", end=\"\")\n",
    "    print()"
   ]
  },
  {
   "cell_type": "markdown",
   "metadata": {},
   "source": [
    "4. Number Diamond Pattern Program"
   ]
  },
  {
   "cell_type": "code",
   "execution_count": 43,
   "metadata": {},
   "outputs": [
    {
     "name": "stdout",
     "output_type": "stream",
     "text": [
      "    1\n",
      "   123\n",
      "  12345\n",
      " 1234567\n",
      "123456789\n",
      " 1234567\n",
      "  12345\n",
      "   123\n",
      "    1\n"
     ]
    }
   ],
   "source": [
    "num = int(input())\n",
    "for row in range(1, num+1, 1):\n",
    "    for col in range(0, num - row, 1):\n",
    "        print(\" \", end=\"\")\n",
    "    for col in range(1, row+row, 1):\n",
    "        print(col, end=\"\")\n",
    "    print()\n",
    "\n",
    "for row in range(num-1, 0, -1):\n",
    "    for col in range(0, num-row, 1):\n",
    "        print(\" \", end=\"\")\n",
    "    for col in range(1, row+row, 1):\n",
    "        print(col, end=\"\")\n",
    "    print()"
   ]
  },
  {
   "cell_type": "markdown",
   "metadata": {},
   "source": [
    "5. Cross pattern program in Python"
   ]
  },
  {
   "cell_type": "code",
   "execution_count": null,
   "metadata": {},
   "outputs": [],
   "source": [
    "# 5\n",
    "# *   *\n",
    "#  * * \n",
    "#   *  \n",
    "#  * * \n",
    "# *   *\n"
   ]
  },
  {
   "cell_type": "markdown",
   "metadata": {},
   "source": [
    "6. Heart pattern in python"
   ]
  },
  {
   "cell_type": "code",
   "execution_count": null,
   "metadata": {},
   "outputs": [],
   "source": [
    "# 6\n",
    "#  ***   ***\n",
    "# ***** *****\n",
    "# ***********\n",
    "#  *********\n",
    "#   *******\n",
    "#    *****\n",
    "#     ***\n",
    "#      *\n"
   ]
  },
  {
   "cell_type": "markdown",
   "metadata": {},
   "source": [
    "7. Hourglass Star Pattern In Python"
   ]
  },
  {
   "cell_type": "code",
   "execution_count": null,
   "metadata": {},
   "outputs": [],
   "source": [
    "# 5\n",
    "# *********\n",
    "#  *******\n",
    "#   *****\n",
    "#    ***\n",
    "#     *\n",
    "#    ***\n",
    "#   *****\n",
    "#  *******\n",
    "# *********\n"
   ]
  }
 ],
 "metadata": {
  "kernelspec": {
   "display_name": "Python 3",
   "language": "python",
   "name": "python3"
  },
  "language_info": {
   "codemirror_mode": {
    "name": "ipython",
    "version": 3
   },
   "file_extension": ".py",
   "mimetype": "text/x-python",
   "name": "python",
   "nbconvert_exporter": "python",
   "pygments_lexer": "ipython3",
   "version": "3.11.4"
  }
 },
 "nbformat": 4,
 "nbformat_minor": 2
}
