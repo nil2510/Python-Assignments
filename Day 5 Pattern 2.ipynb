{
 "cells": [
  {
   "cell_type": "markdown",
   "metadata": {},
   "source": [
    "1. Number Pattern"
   ]
  },
  {
   "cell_type": "code",
   "execution_count": 29,
   "metadata": {},
   "outputs": [
    {
     "name": "stdout",
     "output_type": "stream",
     "text": [
      "1      1\n",
      "12    21\n",
      "123  321\n",
      "12344321\n"
     ]
    }
   ],
   "source": [
    "num = int(input())\n",
    "for row in range(1, num+1, 1):\n",
    "    for col in range(1, row+1, 1):\n",
    "        print(col, end=\"\")\n",
    "    for col in range(0, num - row, 1):\n",
    "        print(\" \", end=\"\")\n",
    "    for col in range(0, num - row, 1):\n",
    "        print(\" \", end=\"\")\n",
    "    for col in range(row, 0, -1):\n",
    "        print(col, end=\"\")\n",
    "    print()"
   ]
  },
  {
   "cell_type": "markdown",
   "metadata": {},
   "source": [
    "2. Zeros and Stars Pattern"
   ]
  },
  {
   "cell_type": "code",
   "execution_count": 30,
   "metadata": {},
   "outputs": [
    {
     "name": "stdout",
     "output_type": "stream",
     "text": [
      "*0000*0000*\n",
      "0*000*000*0\n",
      "00*00*00*00\n",
      "000*0*0*000\n",
      "0000***0000\n"
     ]
    }
   ],
   "source": [
    "num = int(input())\n",
    "for row in range(1, num+1, 1):\n",
    "    for col in range(0, row-1, 1):\n",
    "        print(0, end=\"\")\n",
    "    print(\"*\", end=\"\")\n",
    "    for col in range(num-row, 0, -1):\n",
    "        print(0, end=\"\")\n",
    "    print(\"*\", end=\"\")\n",
    "    for col in range(num-row, 0, -1):\n",
    "        print(0, end=\"\")\n",
    "    print(\"*\", end=\"\")\n",
    "    for col in range(0, row-1, 1):\n",
    "        print(0, end=\"\")\n",
    "    print()"
   ]
  },
  {
   "cell_type": "markdown",
   "metadata": {},
   "source": [
    "3. Pyramid Number Pattern"
   ]
  },
  {
   "cell_type": "code",
   "execution_count": 34,
   "metadata": {},
   "outputs": [
    {
     "name": "stdout",
     "output_type": "stream",
     "text": [
      "   1\n",
      "  212\n",
      " 23123\n",
      "2341234\n"
     ]
    }
   ],
   "source": [
    "num = int(input())\n",
    "for row in range(1, num+1, 1):\n",
    "    for col in range(num-row, 0, -1):\n",
    "        print(\" \", end=\"\")\n",
    "    for col in range(1, row, 1):\n",
    "        print(col+1, end=\"\")\n",
    "    print(1, end=\"\")\n",
    "    for col in range(1, row, 1):\n",
    "        print(col+1, end=\"\")\n",
    "    print()"
   ]
  },
  {
   "cell_type": "markdown",
   "metadata": {},
   "source": [
    "4. Arrow pattern"
   ]
  },
  {
   "cell_type": "code",
   "execution_count": 1,
   "metadata": {},
   "outputs": [
    {
     "name": "stdout",
     "output_type": "stream",
     "text": [
      "* \n",
      " * * \n",
      "  * * * \n",
      "   * * * * \n",
      "  * * * \n",
      " * * \n",
      "* \n"
     ]
    }
   ],
   "source": [
    "num = int(input())\n",
    "temp = (num//2) + 1\n",
    "for row in range(1, temp +1, 1):\n",
    "    for col in range(0, row-1, 1):\n",
    "        print(\" \", end=\"\")\n",
    "    for col in range(1, row+1, 1):\n",
    "        print(\"*\", end=\" \")\n",
    "    print()\n",
    "\n",
    "temp = (num//2)    \n",
    "for row in range(1, temp+1, 1):\n",
    "    for col in range(temp-row, 0, -1):\n",
    "        print(\" \", end=\"\")\n",
    "    for col in range(temp-row+1, 0, -1):\n",
    "        print(\"*\", end=\" \")\n",
    "    print()"
   ]
  }
 ],
 "metadata": {
  "kernelspec": {
   "display_name": "Python 3",
   "language": "python",
   "name": "python3"
  },
  "language_info": {
   "codemirror_mode": {
    "name": "ipython",
    "version": 3
   },
   "file_extension": ".py",
   "mimetype": "text/x-python",
   "name": "python",
   "nbconvert_exporter": "python",
   "pygments_lexer": "ipython3",
   "version": "3.11.4"
  }
 },
 "nbformat": 4,
 "nbformat_minor": 2
}
