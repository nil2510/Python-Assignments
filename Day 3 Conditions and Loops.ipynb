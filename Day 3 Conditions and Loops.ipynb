{
 "cells": [
  {
   "cell_type": "markdown",
   "metadata": {},
   "source": [
    "1. Calculator"
   ]
  },
  {
   "cell_type": "code",
   "execution_count": 6,
   "metadata": {},
   "outputs": [
    {
     "name": "stdout",
     "output_type": "stream",
     "text": [
      "addition result: 5\n",
      "Exiting..\n"
     ]
    }
   ],
   "source": [
    "def enterOption():\n",
    "    option = int(input(\"Enter what operation you want to perform\"))\n",
    "    cal(option)\n",
    "\n",
    "def cal(option):\n",
    "    if option==1:\n",
    "        a = int(input(\"Enter the 1st Number: \")) \n",
    "        b = int(input(\"Enter the 2nd Number: \"))\n",
    "        print(\"addition result:\", a+b)\n",
    "        enterOption()\n",
    "    if option==2:\n",
    "        a = int(input(\"Enter the 1st Number: \")) \n",
    "        b = int(input(\"Enter the 2nd Number: \"))\n",
    "        print(\"subtraction result:\", a-b)\n",
    "        enterOption()\n",
    "    if option==3:\n",
    "        a = int(input(\"Enter the 1st Number: \")) \n",
    "        b = int(input(\"Enter the 2nd Number: \"))\n",
    "        print(\"multiplication result:\", a*b)\n",
    "        enterOption()\n",
    "    if option==4:\n",
    "        a = int(input(\"Enter the 1st Number: \")) \n",
    "        b = int(input(\"Enter the 2nd Number: \"))\n",
    "        print(\"floor Division result:\", a//b)\n",
    "        enterOption()\n",
    "    if option==5:\n",
    "        a = int(input(\"Enter the 1st Number: \")) \n",
    "        b = int(input(\"Enter the 2nd Number: \"))\n",
    "        print(\"Reminder:\", a%b)\n",
    "        enterOption()\n",
    "    if option==6:\n",
    "        print(\"Exiting..\")\n",
    "    if option==7:\n",
    "        print(\"Invalid Operation\")\n",
    "        enterOption()\n",
    "\n",
    "enterOption()"
   ]
  },
  {
   "cell_type": "markdown",
   "metadata": {},
   "source": [
    "2. Reverse of a number"
   ]
  },
  {
   "cell_type": "code",
   "execution_count": 9,
   "metadata": {},
   "outputs": [
    {
     "name": "stdout",
     "output_type": "stream",
     "text": [
      "434\n"
     ]
    }
   ],
   "source": [
    "def reverseNum(num):\n",
    "    sum = 0\n",
    "    while num > 0:\n",
    "        rem = num % 10\n",
    "        sum = (sum * 10) + rem\n",
    "        num //= 10\n",
    "    return sum\n",
    "\n",
    "num = int(input())\n",
    "print(reverseNum(num))"
   ]
  },
  {
   "cell_type": "markdown",
   "metadata": {},
   "source": [
    "3. Palindrome number"
   ]
  },
  {
   "cell_type": "code",
   "execution_count": 8,
   "metadata": {},
   "outputs": [
    {
     "name": "stdout",
     "output_type": "stream",
     "text": [
      "False\n"
     ]
    }
   ],
   "source": [
    "def checkPalindrome(num):\n",
    "    temp = num\n",
    "    sum = 0\n",
    "    while num > 0:\n",
    "        rem = num % 10\n",
    "        sum = (sum * 10) + rem\n",
    "        num //= 10\n",
    "    if sum == temp:\n",
    "        return True\n",
    "    else:\n",
    "        return False\n",
    "\n",
    "num = int(input())\n",
    "print(checkPalindrome(num))"
   ]
  },
  {
   "cell_type": "markdown",
   "metadata": {},
   "source": [
    "4. Sum of even & odd"
   ]
  },
  {
   "cell_type": "code",
   "execution_count": 13,
   "metadata": {},
   "outputs": [
    {
     "name": "stdout",
     "output_type": "stream",
     "text": [
      "Sum Of Odd Digits: 3\n",
      "Sum Of Evens Digits: 6\n"
     ]
    }
   ],
   "source": [
    "def sumFunc(num):\n",
    "    sumOfOdds = 0\n",
    "    sumOfEvens = 0\n",
    "    while num > 0:\n",
    "        rem = num % 10\n",
    "        if rem % 2 ==0:\n",
    "            sumOfEvens += rem\n",
    "        else:\n",
    "            sumOfOdds += rem\n",
    "        num //= 10\n",
    "    print(\"Sum Of Odd Digits:\", sumOfOdds)\n",
    "    print(\"Sum Of Evens Digits:\", sumOfEvens)\n",
    "\n",
    "num = int(input())\n",
    "sumFunc(num)\n"
   ]
  },
  {
   "cell_type": "markdown",
   "metadata": {},
   "source": [
    "5. Nth Fibonacci Number"
   ]
  },
  {
   "cell_type": "code",
   "execution_count": 21,
   "metadata": {},
   "outputs": [
    {
     "name": "stdout",
     "output_type": "stream",
     "text": [
      "13\n"
     ]
    }
   ],
   "source": [
    "def fibonacciNth(num):\n",
    "    if num == 1:\n",
    "        return 0\n",
    "    if num == 2:\n",
    "        return 1\n",
    "    if num > 2:\n",
    "        return fibonacciNth(num-1) + fibonacciNth(num-2)\n",
    "\n",
    "num = int(input())\n",
    "print(fibonacciNth(num))"
   ]
  }
 ],
 "metadata": {
  "kernelspec": {
   "display_name": "Python 3",
   "language": "python",
   "name": "python3"
  },
  "language_info": {
   "codemirror_mode": {
    "name": "ipython",
    "version": 3
   },
   "file_extension": ".py",
   "mimetype": "text/x-python",
   "name": "python",
   "nbconvert_exporter": "python",
   "pygments_lexer": "ipython3",
   "version": "3.11.4"
  }
 },
 "nbformat": 4,
 "nbformat_minor": 2
}
