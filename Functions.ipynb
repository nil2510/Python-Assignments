{
 "cells": [
  {
   "cell_type": "markdown",
   "metadata": {},
   "source": [
    "1. Fahrenheit to Celsius Function"
   ]
  },
  {
   "cell_type": "code",
   "execution_count": 1,
   "metadata": {},
   "outputs": [
    {
     "name": "stdout",
     "output_type": "stream",
     "text": [
      "48.88888888888889\n"
     ]
    }
   ],
   "source": [
    "def convertToCelsius(fValue):\n",
    "    return (5/9)*(fValue - 32)\n",
    "\n",
    "fValue = int(input())\n",
    "print(convertToCelsius(fValue))"
   ]
  },
  {
   "cell_type": "markdown",
   "metadata": {},
   "source": [
    "2. Fibonacci Member"
   ]
  },
  {
   "cell_type": "code",
   "execution_count": 3,
   "metadata": {},
   "outputs": [
    {
     "name": "stdout",
     "output_type": "stream",
     "text": [
      "False\n"
     ]
    }
   ],
   "source": [
    "def isFibonacci(num):\n",
    "    a1 = 0\n",
    "    a2 = 1\n",
    "    while a2 <= num:\n",
    "        temp = a1 + a2\n",
    "        if temp == num:\n",
    "            return True\n",
    "        a1 = a2\n",
    "        a2 = temp\n",
    "    return False\n",
    "\n",
    "num = int(input())\n",
    "print(isFibonacci(num))"
   ]
  },
  {
   "cell_type": "markdown",
   "metadata": {},
   "source": [
    "3. Palindrome number"
   ]
  },
  {
   "cell_type": "code",
   "execution_count": null,
   "metadata": {},
   "outputs": [],
   "source": [
    "def checkPalindrome(num):\n",
    "    temp = num\n",
    "    sum = 0\n",
    "    while num > 0:\n",
    "        rem = num % 10\n",
    "        sum = (sum * 10) + rem\n",
    "        num //= 10\n",
    "    if sum == temp:\n",
    "        return True\n",
    "    else:\n",
    "        return False\n",
    "\n",
    "num = int(input())\n",
    "print(checkPalindrome(num))"
   ]
  },
  {
   "cell_type": "markdown",
   "metadata": {},
   "source": [
    "4. Check Armstrong"
   ]
  },
  {
   "cell_type": "code",
   "execution_count": 5,
   "metadata": {},
   "outputs": [
    {
     "name": "stdout",
     "output_type": "stream",
     "text": [
      "False\n"
     ]
    }
   ],
   "source": [
    "def isArmstrong(n):\n",
    "    length = len(str(n))\n",
    "    temp = n\n",
    "    sum = 0\n",
    "    while n > 0:\n",
    "        rem = n % 10\n",
    "        sum += rem**length\n",
    "        n //= 10\n",
    "\n",
    "    if sum == temp:\n",
    "        return True\n",
    "    else:\n",
    "        return False\n",
    "\n",
    "num = int(input())\n",
    "print(isArmstrong(num))"
   ]
  }
 ],
 "metadata": {
  "kernelspec": {
   "display_name": "Python 3",
   "language": "python",
   "name": "python3"
  },
  "language_info": {
   "codemirror_mode": {
    "name": "ipython",
    "version": 3
   },
   "file_extension": ".py",
   "mimetype": "text/x-python",
   "name": "python",
   "nbconvert_exporter": "python",
   "pygments_lexer": "ipython3",
   "version": "3.11.4"
  }
 },
 "nbformat": 4,
 "nbformat_minor": 2
}
