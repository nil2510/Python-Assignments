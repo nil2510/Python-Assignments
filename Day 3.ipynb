{
 "cells": [
  {
   "cell_type": "markdown",
   "metadata": {},
   "source": [
    "1. Guess the Number"
   ]
  },
  {
   "cell_type": "code",
   "execution_count": 10,
   "metadata": {},
   "outputs": [],
   "source": [
    "import random\n",
    "\n",
    "def compareNumbers(randomNumber):\n",
    "    num = int(input())\n",
    "    if randomNumber > num:\n",
    "        print(\"too low\")\n",
    "        compareNumbers(randomNumber)\n",
    "    if randomNumber < num:\n",
    "        print(\"too high\")\n",
    "        compareNumbers(randomNumber)\n",
    "    if randomNumber == num:\n",
    "        print(\"Correct!\")\n",
    "\n",
    "compareNumbers(random.randint(1, 100))"
   ]
  },
  {
   "cell_type": "markdown",
   "metadata": {},
   "source": [
    "2. Multiplication Table"
   ]
  },
  {
   "cell_type": "code",
   "execution_count": null,
   "metadata": {},
   "outputs": [
    {
     "name": "stdout",
     "output_type": "stream",
     "text": [
      "23 1 23\n",
      "23 2 46\n",
      "23 3 69\n",
      "23 4 92\n",
      "23 5 115\n",
      "23 6 138\n",
      "23 7 161\n",
      "23 8 184\n",
      "23 9 207\n",
      "23 10 230\n"
     ]
    }
   ],
   "source": [
    "number = int(input())\n",
    "mulRange = int(input())\n",
    "i = 1\n",
    "while i <= mulRange:\n",
    "    print(number, i, number*i)\n",
    "    i += 1"
   ]
  },
  {
   "cell_type": "markdown",
   "metadata": {},
   "source": [
    "3. Factorial Calculator"
   ]
  },
  {
   "cell_type": "code",
   "execution_count": null,
   "metadata": {},
   "outputs": [
    {
     "name": "stdout",
     "output_type": "stream",
     "text": [
      "6\n"
     ]
    }
   ],
   "source": [
    "def factorial(n):\n",
    "    if n==2:\n",
    "        return 2\n",
    "    return n * factorial(n-1)\n",
    "\n",
    "num = int(input())\n",
    "print(factorial(num))"
   ]
  },
  {
   "cell_type": "markdown",
   "metadata": {},
   "source": [
    "4. Armstrong Number "
   ]
  },
  {
   "cell_type": "code",
   "execution_count": null,
   "metadata": {},
   "outputs": [
    {
     "name": "stdout",
     "output_type": "stream",
     "text": [
      "Not Armstrong\n"
     ]
    }
   ],
   "source": [
    "def isArmstrong(n):\n",
    "    length = len(str(n))\n",
    "    temp = n\n",
    "    sum = 0\n",
    "    while n > 0:\n",
    "        rem = n % 10\n",
    "        sum += rem**length\n",
    "        n //= 10\n",
    "\n",
    "    if sum == temp:\n",
    "        return True\n",
    "    else:\n",
    "        return False\n",
    "\n",
    "num = int(input())\n",
    "if isArmstrong(num):\n",
    "    print(\"Armstrong\")\n",
    "else:\n",
    "    print(\"Not Armstrong\")"
   ]
  },
  {
   "cell_type": "markdown",
   "metadata": {},
   "source": [
    "5. Leap Year Checker "
   ]
  },
  {
   "cell_type": "code",
   "execution_count": null,
   "metadata": {},
   "outputs": [
    {
     "name": "stdout",
     "output_type": "stream",
     "text": [
      "Leap Year\n"
     ]
    }
   ],
   "source": [
    "def isLeap(n):\n",
    "    if n % 4 == 0:\n",
    "        return True\n",
    "    else:\n",
    "        return False\n",
    "\n",
    "num = int(input())\n",
    "if isLeap(num):\n",
    "    print(\"Leap Year\")\n",
    "else:\n",
    "    print(\"Not a Leap Year\")"
   ]
  },
  {
   "cell_type": "markdown",
   "metadata": {},
   "source": [
    "6. Prime Number Range "
   ]
  },
  {
   "cell_type": "code",
   "execution_count": null,
   "metadata": {},
   "outputs": [
    {
     "name": "stdout",
     "output_type": "stream",
     "text": [
      "4\n",
      "5\n",
      "7\n",
      "11\n",
      "13\n",
      "17\n",
      "19\n",
      "23\n"
     ]
    }
   ],
   "source": [
    "def isPrime(n):\n",
    "    for i in range (2, n//2):\n",
    "        if n % i == 0:\n",
    "            return False\n",
    "    return True\n",
    "\n",
    "startNum = int(input())\n",
    "endNum = int(input())\n",
    "while startNum <= endNum:\n",
    "    if isPrime(startNum):\n",
    "        print(startNum)\n",
    "    startNum += 1"
   ]
  },
  {
   "cell_type": "markdown",
   "metadata": {},
   "source": [
    "7. Perfect Number Checker "
   ]
  },
  {
   "cell_type": "code",
   "execution_count": null,
   "metadata": {},
   "outputs": [
    {
     "name": "stdout",
     "output_type": "stream",
     "text": [
      "Not a Perfect Number\n"
     ]
    }
   ],
   "source": [
    "def isPerfect(n):\n",
    "    temp = 1\n",
    "    sum = 0\n",
    "    while temp < n:\n",
    "        if n % temp == 0:\n",
    "            sum += temp\n",
    "        temp += 1\n",
    "    if num == sum:\n",
    "        return True\n",
    "\n",
    "num = int(input())\n",
    "if isPerfect(num):\n",
    "    print(\"Perfect Number\")\n",
    "else:\n",
    "    print(\"Not a Perfect Number\")"
   ]
  },
  {
   "cell_type": "markdown",
   "metadata": {},
   "source": [
    "8. Count Vowels and Consonants "
   ]
  },
  {
   "cell_type": "code",
   "execution_count": null,
   "metadata": {},
   "outputs": [
    {
     "name": "stdout",
     "output_type": "stream",
     "text": [
      "Number of vowels: 2\n",
      "Number of consonents: 3\n"
     ]
    }
   ],
   "source": [
    "def countCharacters(text):\n",
    "    vowels = 0\n",
    "    consonents = 0\n",
    "    for x in text:\n",
    "        if x == \"a\" or x == \"e\" or x == \"i\" or x == \"o\" or x == \"u\" or x == \"A\" or x == \"E\" or x == \"I\" or x == \"O\" or x == \"U\": \n",
    "            vowels += 1\n",
    "        else:\n",
    "            consonents += 1\n",
    "    print(\"Number of vowels:\", vowels)\n",
    "    print(\"Number of consonents:\", consonents)\n",
    "\n",
    "text = str(input())\n",
    "countCharacters(text)"
   ]
  },
  {
   "cell_type": "markdown",
   "metadata": {},
   "source": [
    "10. Sum of Natural Numbers "
   ]
  },
  {
   "cell_type": "code",
   "execution_count": 2,
   "metadata": {},
   "outputs": [
    {
     "name": "stdout",
     "output_type": "stream",
     "text": [
      "10\n"
     ]
    }
   ],
   "source": [
    "def sumNatural(num):\n",
    "    sum = 0\n",
    "    while num > 0:\n",
    "        sum += num\n",
    "        num -= 1\n",
    "    return sum\n",
    "\n",
    "num = int(input())\n",
    "print(sumNatural(num))"
   ]
  },
  {
   "cell_type": "markdown",
   "metadata": {},
   "source": [
    "11. Binary to Decimal Conversion "
   ]
  },
  {
   "cell_type": "code",
   "execution_count": null,
   "metadata": {},
   "outputs": [],
   "source": [
    "def convertToDecimal(num):\n",
    "    \n",
    "\n",
    "num = int(input())\n",
    "print(convertToDecimal(num))"
   ]
  },
  {
   "cell_type": "markdown",
   "metadata": {},
   "source": [
    "12. Decimal to Binary Conversion "
   ]
  },
  {
   "cell_type": "code",
   "execution_count": null,
   "metadata": {},
   "outputs": [],
   "source": [
    "def convertToBinary(num):\n",
    "    \n",
    "\n",
    "num = int(input())\n",
    "print(convertToBinary(num))"
   ]
  }
 ],
 "metadata": {
  "kernelspec": {
   "display_name": "Python 3",
   "language": "python",
   "name": "python3"
  },
  "language_info": {
   "codemirror_mode": {
    "name": "ipython",
    "version": 3
   },
   "file_extension": ".py",
   "mimetype": "text/x-python",
   "name": "python",
   "nbconvert_exporter": "python",
   "pygments_lexer": "ipython3",
   "version": "3.11.4"
  }
 },
 "nbformat": 4,
 "nbformat_minor": 2
}
