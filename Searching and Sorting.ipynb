{
 "cells": [
  {
   "cell_type": "markdown",
   "metadata": {},
   "source": [
    "1. Push Zeros to end"
   ]
  },
  {
   "cell_type": "code",
   "execution_count": 15,
   "metadata": {},
   "outputs": [
    {
     "name": "stdout",
     "output_type": "stream",
     "text": [
      "[1, 2, 3, 0, 0, 0]\n"
     ]
    }
   ],
   "source": [
    "arr = list(map(int, input().split()))\n",
    "for i in range(0, len(arr), 1):\n",
    "    if arr[i] == 0:\n",
    "        arr.append(0)\n",
    "        arr.remove(arr[i])\n",
    "print(arr)"
   ]
  },
  {
   "cell_type": "markdown",
   "metadata": {},
   "source": [
    "2. Rotate array"
   ]
  },
  {
   "cell_type": "code",
   "execution_count": 16,
   "metadata": {},
   "outputs": [
    {
     "name": "stdout",
     "output_type": "stream",
     "text": [
      "[0, 3, 0, 4, 0, 1, 0, 2]\n"
     ]
    }
   ],
   "source": [
    "arr = list(map(int, input().split()))\n",
    "x = int(input())\n",
    "for i in range(0, x, 1):\n",
    "    arr.append(arr[0])\n",
    "    arr.remove(arr[0])\n",
    "print(arr)"
   ]
  },
  {
   "cell_type": "markdown",
   "metadata": {},
   "source": [
    "3. Second Largest in array"
   ]
  },
  {
   "cell_type": "code",
   "execution_count": 6,
   "metadata": {},
   "outputs": [
    {
     "name": "stdout",
     "output_type": "stream",
     "text": [
      "7\n"
     ]
    }
   ],
   "source": [
    "def sortArray(arr):\n",
    "    if len(arr) <= 1:\n",
    "        return arr\n",
    "    else:\n",
    "        arr.sort()\n",
    "    return arr\n",
    "\n",
    "arr = list(map(int, input().split()))\n",
    "sortArray(arr)\n",
    "print(arr[-2])"
   ]
  },
  {
   "cell_type": "markdown",
   "metadata": {},
   "source": [
    "4. Check Array Rotation"
   ]
  },
  {
   "cell_type": "code",
   "execution_count": 13,
   "metadata": {},
   "outputs": [
    {
     "name": "stdout",
     "output_type": "stream",
     "text": [
      "4\n"
     ]
    }
   ],
   "source": [
    "def checkArrRotation(arr):\n",
    "    for i in range(0, len(arr)-1, 1):\n",
    "        if arr[i+1] < arr[i]:\n",
    "            return i+1\n",
    "    return 0\n",
    "\n",
    "arr = list(map(int, input().split()))\n",
    "print(checkArrRotation(arr))"
   ]
  },
  {
   "cell_type": "markdown",
   "metadata": {},
   "source": [
    "5. Sort 0 1 2"
   ]
  },
  {
   "cell_type": "code",
   "execution_count": 18,
   "metadata": {},
   "outputs": [
    {
     "name": "stdout",
     "output_type": "stream",
     "text": [
      "[0, 0, 1, 1, 2, 2]\n"
     ]
    }
   ],
   "source": [
    "def sortArray(arr):\n",
    "    if len(arr) <= 1:\n",
    "        return arr\n",
    "    else:\n",
    "        arr.sort()\n",
    "    return arr\n",
    "\n",
    "arr = list(map(int, input().split()))\n",
    "print(sortArray(arr))"
   ]
  },
  {
   "cell_type": "markdown",
   "metadata": {},
   "source": [
    "6. Sum of Two Arrays"
   ]
  },
  {
   "cell_type": "code",
   "execution_count": 35,
   "metadata": {},
   "outputs": [
    {
     "name": "stdout",
     "output_type": "stream",
     "text": [
      "[1, 0, 2, 2, 0]\n"
     ]
    }
   ],
   "source": [
    "def sumOfTwoArrays(arr1, arr2):\n",
    "    length = max(len(arr1), len(arr2)) + 1\n",
    "    resArr = [0] * length\n",
    "    for i in range(0, length - len(arr1), 1):\n",
    "        arr1.insert(0, 0)\n",
    "    for i in range(0, length - len(arr2), 1):\n",
    "        arr2.insert(0, 0)\n",
    "    take = 0\n",
    "    for i in range(length-1, -1, -1):\n",
    "        x = arr1[i] + arr2[i] + take\n",
    "        resArr[i] = x % 10\n",
    "        take = x // 10\n",
    "    return resArr\n",
    "\n",
    "arr1 = list(map(int, input().split()))\n",
    "arr2 = list(map(int, input().split()))\n",
    "print(sumOfTwoArrays(arr1, arr2))"
   ]
  }
 ],
 "metadata": {
  "kernelspec": {
   "display_name": "Python 3",
   "language": "python",
   "name": "python3"
  },
  "language_info": {
   "codemirror_mode": {
    "name": "ipython",
    "version": 3
   },
   "file_extension": ".py",
   "mimetype": "text/x-python",
   "name": "python",
   "nbconvert_exporter": "python",
   "pygments_lexer": "ipython3",
   "version": "3.11.4"
  }
 },
 "nbformat": 4,
 "nbformat_minor": 2
}
