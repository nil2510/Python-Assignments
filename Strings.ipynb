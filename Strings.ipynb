{
 "cells": [
  {
   "cell_type": "markdown",
   "metadata": {},
   "source": [
    "1. Remove Consecutive Duplicates"
   ]
  },
  {
   "cell_type": "code",
   "execution_count": 13,
   "metadata": {},
   "outputs": [
    {
     "name": "stdout",
     "output_type": "stream",
     "text": [
      "abcdabcd\n"
     ]
    }
   ],
   "source": [
    "myString = str(input())\n",
    "myList = [*myString]\n",
    "\n",
    "newList = []\n",
    "newList.append(myList[0])\n",
    "\n",
    "for i in range(1, len(myString), 1):\n",
    "    lenArr = len(newList)\n",
    "    if myString[i] != newList[lenArr-1]:\n",
    "        newList.append(myString[i])\n",
    "\n",
    "print(''.join(newList))"
   ]
  },
  {
   "cell_type": "markdown",
   "metadata": {},
   "source": [
    "2. Reverse Each Word"
   ]
  },
  {
   "cell_type": "code",
   "execution_count": 14,
   "metadata": {},
   "outputs": [
    {
     "name": "stdout",
     "output_type": "stream",
     "text": [
      "!iH I ma .linuS\n"
     ]
    }
   ],
   "source": [
    "def reverseString(string):\n",
    "    return string[::-1]\n",
    "\n",
    "myString = str(input())\n",
    "myList = myString.split()\n",
    "for i in range(0, len(myList), 1):\n",
    "    myList[i] = reverseString(myList[i])\n",
    "print(' '.join(myList))"
   ]
  },
  {
   "cell_type": "markdown",
   "metadata": {},
   "source": [
    "3. Remove character"
   ]
  },
  {
   "cell_type": "code",
   "execution_count": 15,
   "metadata": {},
   "outputs": [
    {
     "name": "stdout",
     "output_type": "stream",
     "text": [
      "bccb\n"
     ]
    }
   ],
   "source": [
    "myString = str(input())\n",
    "myList = [*myString]\n",
    "string = str(input())\n",
    "\n",
    "for i in range(0, len(myList), 1):\n",
    "    if myString[i] == string:\n",
    "        myList.remove(myString[i])\n",
    "\n",
    "print(''.join(myList))"
   ]
  },
  {
   "cell_type": "markdown",
   "metadata": {},
   "source": [
    "4. Highest Occuring Character"
   ]
  },
  {
   "cell_type": "code",
   "execution_count": 32,
   "metadata": {},
   "outputs": [
    {
     "name": "stdout",
     "output_type": "stream",
     "text": [
      "c\n"
     ]
    }
   ],
   "source": [
    "myString = str(input())\n",
    "myList = [*myString]\n",
    "\n",
    "newList = []\n",
    "newList.append(myList[0])\n",
    "\n",
    "for i in range(1, len(myString), 1):\n",
    "    if myList[i] not in newList:\n",
    "        newList.append(myString[i])\n",
    "\n",
    "max = 0\n",
    "char = newList[0]\n",
    "count = 0\n",
    "for i in newList:\n",
    "    for j in myList:\n",
    "        if i == j:\n",
    "            count += 1\n",
    "    if max < count:\n",
    "        max = count\n",
    "        char = i\n",
    "    count = 0\n",
    "\n",
    "print(char)"
   ]
  },
  {
   "cell_type": "markdown",
   "metadata": {},
   "source": [
    "5. Compress the String"
   ]
  },
  {
   "cell_type": "code",
   "execution_count": 13,
   "metadata": {},
   "outputs": [
    {
     "name": "stdout",
     "output_type": "stream",
     "text": [
      "a3b2cdcd2\n"
     ]
    }
   ],
   "source": [
    "def compress_string(s):\n",
    "    compressed_string = \"\"\n",
    "    count = 1\n",
    "    for i in range(1, len(s)):\n",
    "        if s[i] == s[i - 1]:\n",
    "            count += 1\n",
    "        else:\n",
    "            if count > 1:\n",
    "                compressed_string += s[i - 1] + str(count)\n",
    "            else:\n",
    "                compressed_string += s[i - 1]\n",
    "            count = 1\n",
    "    if count > 1:\n",
    "        compressed_string += s[-1] + str(count)\n",
    "    else:\n",
    "        compressed_string += s[-1]\n",
    "    return compressed_string\n",
    "\n",
    "original_string = input()\n",
    "print(compress_string(original_string))"
   ]
  }
 ],
 "metadata": {
  "kernelspec": {
   "display_name": "Python 3",
   "language": "python",
   "name": "python3"
  },
  "language_info": {
   "codemirror_mode": {
    "name": "ipython",
    "version": 3
   },
   "file_extension": ".py",
   "mimetype": "text/x-python",
   "name": "python",
   "nbconvert_exporter": "python",
   "pygments_lexer": "ipython3",
   "version": "3.11.4"
  }
 },
 "nbformat": 4,
 "nbformat_minor": 2
}
